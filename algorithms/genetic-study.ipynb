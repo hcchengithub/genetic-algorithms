{
 "cells": [
  {
   "cell_type": "code",
   "execution_count": 2,
   "metadata": {
    "collapsed": true,
    "jupyter": {
     "outputs_hidden": true
    },
    "tags": []
   },
   "outputs": [
    {
     "name": "stdout",
     "output_type": "stream",
     "text": [
      "reDef unknown\n",
      "reDef -->\n",
      "p e f o r t h    v1.26\n",
      "source code http://github.com/hcchengithub/peforth\n",
      "Type 'peforth.ok()' to enter forth interpreter, 'exit' to come back.\n",
      "\n",
      "version ==>\n",
      " 1.26 (<class 'str'>)\n"
     ]
    }
   ],
   "source": [
    "# Get modules and peforth tools\n",
    "import random, json\n",
    "from itertools import permutations  # permutations 數學「排列組合」中的「排列」\n",
    "import peforth\n",
    "peforth.bps = [i for i in range(100)]  # 預設有這麼多 Breakpoint ID\n",
    "def bp(id=None,locals=None):\n",
    "    # Breakpoint ID 不能超過 peforth.bps 保留，超過的無效。\n",
    "    if id==None: \n",
    "        id = 0\n",
    "        prompt='bp> '\n",
    "    else:\n",
    "        prompt=\"{}>\".format(id)\n",
    "    if id in peforth.bps: peforth.push(locals).ok(prompt, cmd=\"to _locals_\")\n",
    "peforth.bp = bp\n",
    "peforth.push(bp).dictate(\"py: vm.bp=pop()\")  # [ ] 忘了 vm.bp 有何用途？\n",
    "peforth.dictate('''\n",
    "    : path-to-find-modules ( <path> -- ) // Add path to sys.path so \"import module-name\" can find the module\n",
    "        CR word trim ( \"path\" ) py: sys.path.append(pop()) ;\n",
    "\n",
    "    \\ ------ breakpoint ------------------------------------------------------------\n",
    "    : bp .\" Usage: peforth.bp(11,locals())  # drop a breakpoint with ID=11\" cr ;\n",
    "    : bl // ( -- ) List all breakpoints\n",
    "        __main__ :> peforth.bps \n",
    "        <py>\n",
    "        bps = pop()\n",
    "        print('Disabled breakpoints:')\n",
    "        for i in range(len(bps)):\n",
    "            if not bps[i]: \n",
    "                print(i, end=' ')\n",
    "        print(); print('Enabled breakpoints:')\n",
    "        count = 0\n",
    "        for i in range(len(bps)):\n",
    "            if bps[i]: \n",
    "                print(i, end=' ')\n",
    "                count += 1\n",
    "        print(); print('Enabled breakpoints count: {}/{}'.format(count,len(bps)))\n",
    "        </py> cr ;\n",
    "        /// Breakpoint commands:\n",
    "        ///\t  bl  - list all breakpoints (capital BL is white space) \n",
    "        ///\t  be  - enable breakpoints, e.g. be 1 2 3 \n",
    "        ///\t  bd  - disable breakpoints, e.g. bd 1 2 3 \n",
    "        ///\t  be* - enable all breakpoints\n",
    "        ///\t  bd* - disable all breakpoints \n",
    "        /// Also: \n",
    "        ///   for i in [11,22,33]: peforth.bps[i]=0\t # disable breakpoints 11,22,33 \n",
    "        ///   for i in [11,22,33]: peforth.bps[i]=i\t # enable  breakpoints 11,22,33 \n",
    "    \n",
    "    : bd // ( <1 2 3 4...> -- ) Disable listed breakpoints \n",
    "        CR word ( line ) __main__ :> peforth.bps ( line bps )\n",
    "        <py>\n",
    "        line, bps = pop(1), pop(0)\n",
    "        points = map(int, line.split(' '))\n",
    "        for i in points: bps[i] = 0\n",
    "        </py> ; \n",
    "        ' bl :> comment last :: comment=pop(1)\n",
    "    \n",
    "    : be // ( <1 2 3 4...> -- ) Enable listed breakpoints \n",
    "        CR word ( line ) __main__ :> peforth.bps ( line bps ) \n",
    "        <py>\n",
    "        line, bps = pop(1), pop(0)\n",
    "        points = map(int, line.split(' '))\n",
    "        for i in points: bps[i] = i\n",
    "        </py> ; \n",
    "        ' bl :> comment last :: comment=pop(1)\n",
    "    \n",
    "    : bd* // ( -- ) Disable all breakpoints \n",
    "        __main__ :> peforth.bps\t ( bps ) \n",
    "        <py>\n",
    "        bps = pop()\n",
    "        for i in range(len(bps)): bps[i] = 0\n",
    "        </py> ;\n",
    "        ' bl :> comment last :: comment=pop(1)\n",
    "    \n",
    "    : be* // ( -- ) Enable all breakpoints \n",
    "        __main__ :> peforth.bps\t ( bps ) \n",
    "        <py>\n",
    "        bps = pop()\n",
    "        for i in range(len(bps)): bps[i] = i\n",
    "        </py> ;\n",
    "        ' bl :> comment last :: comment=pop(1)\n",
    "\n",
    "    \\ ------ xstack ------------------------------------------------------------\n",
    "    [] value xstack xstack py: vm.xstack=pop() // ( -- array ) The xstack. 掛進 vm 就可以直接以 py> xstack 取用。\n",
    "    : x@ xstack :> [-1] ; // ( -- n ) Get TOS of the xstack\n",
    "    : x> xstack :> pop() ; // ( -- n ) Pop the xstack\n",
    "    : >x xstack :: append(pop()) ; // ( n -- ) Push n into the xstack\n",
    "    : .sx xstack . ; // ( -- ) List xstack \n",
    "    : xdrop x> drop ; // ( X: ... a -- X: ... ) drop xstack \n",
    "    : xdropall [] to xstack ; // ( X: ... -- X: empty ) clear xstack \n",
    "    ''')\n",
    "%f version ==>\n"
   ]
  },
  {
   "cell_type": "code",
   "execution_count": 1,
   "metadata": {},
   "outputs": [],
   "source": [
    "from random import choices, randint, randrange, random\n",
    "from typing import List, Optional, Callable, Tuple\n",
    "\n",
    "Genome = List[int]\n",
    "Population = List[Genome]\n",
    "PopulateFunc = Callable[[], Population]\n",
    "FitnessFunc = Callable[[Genome], int]\n",
    "SelectionFunc = Callable[[Population, FitnessFunc], Tuple[Genome, Genome]]\n",
    "CrossoverFunc = Callable[[Genome, Genome], Tuple[Genome, Genome]]\n",
    "MutationFunc = Callable[[Genome], Genome]\n",
    "PrinterFunc = Callable[[Population, int, FitnessFunc], None]"
   ]
  },
  {
   "cell_type": "code",
   "execution_count": 1,
   "metadata": {},
   "outputs": [],
   "source": [
    "def generate_population(size: int, genome_length: int) -> Population:\n",
    "    return [generate_genome(genome_length) for _ in range(size)]\n",
    "\n",
    "\n",
    "def single_point_crossover(a: Genome, b: Genome) -> Tuple[Genome, Genome]:\n",
    "    if len(a) != len(b):\n",
    "        raise ValueError(\"Genomes a and b must be of same length\")\n",
    "\n",
    "    length = len(a)\n",
    "    if length < 2:\n",
    "        return a, b\n",
    "\n",
    "    p = randint(1, length - 1)\n",
    "    return a[0:p] + b[p:], b[0:p] + a[p:]\n",
    "\n",
    "\n",
    "def mutation(genome: Genome, num: int = 1, probability: float = 0.5) -> Genome:\n",
    "    for _ in range(num):\n",
    "        index = randrange(len(genome))\n",
    "        genome[index] = genome[index] if random() > probability else abs(genome[index] - 1)\n",
    "    return genome\n",
    "\n",
    "\n",
    "def population_fitness(population: Population, fitness_func: FitnessFunc) -> int:\n",
    "    return sum([fitness_func(genome) for genome in population])\n",
    "\n",
    "\n",
    "def selection_pair(population: Population, fitness_func: FitnessFunc) -> Population:\n",
    "    return choices(\n",
    "        population=population,\n",
    "        weights=[fitness_func(gene) for gene in population],\n",
    "        k=2\n",
    "    )\n",
    "\n",
    "\n",
    "def sort_population(population: Population, fitness_func: FitnessFunc) -> Population:\n",
    "    return sorted(population, key=fitness_func, reverse=True)\n",
    "\n",
    "\n",
    "def genome_to_string(genome: Genome) -> str:\n",
    "    return \"\".join(map(str, genome))\n",
    "\n",
    "\n",
    "def print_stats(population: Population, generation_id: int, fitness_func: FitnessFunc):\n",
    "    print(\"GENERATION %02d\" % generation_id)\n",
    "    print(\"=============\")\n",
    "    print(\"Population: [%s]\" % \", \".join([genome_to_string(gene) for gene in population]))\n",
    "    print(\"Avg. Fitness: %f\" % (population_fitness(population, fitness_func) / len(population)))\n",
    "    sorted_population = sort_population(population, fitness_func)\n",
    "    print(\n",
    "        \"Best: %s (%f)\" % (genome_to_string(sorted_population[0]), fitness_func(sorted_population[0])))\n",
    "    print(\"Worst: %s (%f)\" % (genome_to_string(sorted_population[-1]),\n",
    "                              fitness_func(sorted_population[-1])))\n",
    "    print(\"\")\n",
    "\n",
    "    return sorted_population[0]\n",
    "\n",
    "\n",
    "def run_evolution(\n",
    "        populate_func: PopulateFunc,\n",
    "        fitness_func: FitnessFunc,\n",
    "        fitness_limit: int,\n",
    "        selection_func: SelectionFunc = selection_pair,\n",
    "        crossover_func: CrossoverFunc = single_point_crossover,\n",
    "        mutation_func: MutationFunc = mutation,\n",
    "        generation_limit: int = 100,\n",
    "        printer: Optional[PrinterFunc] = None) \\\n",
    "        -> Tuple[Population, int]:\n",
    "    population = populate_func()\n",
    "\n",
    "    for i in range(generation_limit):\n",
    "        population = sorted(population, key=lambda genome: fitness_func(genome), reverse=True)\n",
    "                    # 冗贅，其實相等於 sorted(population, key=fitness_func, reverse=True)\n",
    "        if printer is not None:\n",
    "            printer(population, i, fitness_func)\n",
    "\n",
    "        if fitness_func(population[0]) >= fitness_limit:\n",
    "            break\n",
    "\n",
    "        next_generation = population[0:2]\n",
    "\n",
    "        for j in range(int(len(population) / 2) - 1):\n",
    "            parents = selection_func(population, fitness_func)\n",
    "            offspring_a, offspring_b = crossover_func(parents[0], parents[1])\n",
    "            offspring_a = mutation_func(offspring_a)\n",
    "            offspring_b = mutation_func(offspring_b)\n",
    "            next_generation += [offspring_a, offspring_b]\n",
    "\n",
    "        population = next_generation\n",
    "\n",
    "    return population, i"
   ]
  },
  {
   "cell_type": "code",
   "execution_count": null,
   "metadata": {},
   "outputs": [],
   "source": []
  },
  {
   "cell_type": "code",
   "execution_count": null,
   "metadata": {},
   "outputs": [],
   "source": []
  },
  {
   "cell_type": "code",
   "execution_count": null,
   "metadata": {},
   "outputs": [],
   "source": []
  },
  {
   "cell_type": "code",
   "execution_count": 75,
   "metadata": {},
   "outputs": [
    {
     "name": "stdout",
     "output_type": "stream",
     "text": [
      "reDef unknown\n",
      "reDef -->\n"
     ]
    }
   ],
   "source": [
    "import peforth"
   ]
  },
  {
   "cell_type": "code",
   "execution_count": 6,
   "metadata": {},
   "outputs": [],
   "source": [
    "a = [1,2]\n",
    "b = [3,4,5,6,7,8,9,10]\n",
    "c = a+b"
   ]
  },
  {
   "cell_type": "code",
   "execution_count": 7,
   "metadata": {},
   "outputs": [
    {
     "data": {
      "text/plain": [
       "[1, 2, 3]"
      ]
     },
     "execution_count": 7,
     "metadata": {},
     "output_type": "execute_result"
    }
   ],
   "source": [
    "c[:3]"
   ]
  },
  {
   "cell_type": "code",
   "execution_count": 8,
   "metadata": {},
   "outputs": [
    {
     "data": {
      "text/plain": [
       "[4, 5, 6, 7, 8, 9, 10]"
      ]
     },
     "execution_count": 8,
     "metadata": {},
     "output_type": "execute_result"
    }
   ],
   "source": [
    "c[3:]"
   ]
  },
  {
   "cell_type": "code",
   "execution_count": 10,
   "metadata": {},
   "outputs": [],
   "source": [
    "from random import choices, randint, randrange, random"
   ]
  },
  {
   "cell_type": "code",
   "execution_count": 9,
   "metadata": {
    "collapsed": true,
    "jupyter": {
     "outputs_hidden": true
    }
   },
   "outputs": [
    {
     "ename": "NameError",
     "evalue": "name 'Population' is not defined",
     "output_type": "error",
     "traceback": [
      "\u001b[1;31m---------------------------------------------------------------------------\u001b[0m",
      "\u001b[1;31mNameError\u001b[0m                                 Traceback (most recent call last)",
      "\u001b[1;32m<ipython-input-9-fae12d348e10>\u001b[0m in \u001b[0;36m<module>\u001b[1;34m\u001b[0m\n\u001b[0;32m      1\u001b[0m \u001b[1;32mfrom\u001b[0m \u001b[0mrandom\u001b[0m \u001b[1;32mimport\u001b[0m \u001b[0mchoices\u001b[0m\u001b[1;33m,\u001b[0m \u001b[0mrandint\u001b[0m\u001b[1;33m,\u001b[0m \u001b[0mrandrange\u001b[0m\u001b[1;33m,\u001b[0m \u001b[0mrandom\u001b[0m\u001b[1;33m\u001b[0m\u001b[1;33m\u001b[0m\u001b[0m\n\u001b[1;32m----> 2\u001b[1;33m \u001b[1;32mdef\u001b[0m \u001b[0mselection_pair\u001b[0m\u001b[1;33m(\u001b[0m\u001b[0mpopulation\u001b[0m\u001b[1;33m:\u001b[0m \u001b[0mPopulation\u001b[0m\u001b[1;33m,\u001b[0m \u001b[0mfitness_func\u001b[0m\u001b[1;33m:\u001b[0m \u001b[0mFitnessFunc\u001b[0m\u001b[1;33m)\u001b[0m \u001b[1;33m->\u001b[0m \u001b[0mPopulation\u001b[0m\u001b[1;33m:\u001b[0m\u001b[1;33m\u001b[0m\u001b[1;33m\u001b[0m\u001b[0m\n\u001b[0m\u001b[0;32m      3\u001b[0m     return choices(\n\u001b[0;32m      4\u001b[0m         \u001b[0mpopulation\u001b[0m\u001b[1;33m=\u001b[0m\u001b[0mpopulation\u001b[0m\u001b[1;33m,\u001b[0m\u001b[1;33m\u001b[0m\u001b[1;33m\u001b[0m\u001b[0m\n\u001b[0;32m      5\u001b[0m         \u001b[0mweights\u001b[0m\u001b[1;33m=\u001b[0m\u001b[1;33m[\u001b[0m\u001b[0mfitness_func\u001b[0m\u001b[1;33m(\u001b[0m\u001b[0mgene\u001b[0m\u001b[1;33m)\u001b[0m \u001b[1;32mfor\u001b[0m \u001b[0mgene\u001b[0m \u001b[1;32min\u001b[0m \u001b[0mpopulation\u001b[0m\u001b[1;33m]\u001b[0m\u001b[1;33m,\u001b[0m\u001b[1;33m\u001b[0m\u001b[1;33m\u001b[0m\u001b[0m\n",
      "\u001b[1;31mNameError\u001b[0m: name 'Population' is not defined"
     ]
    }
   ],
   "source": [
    "def selection_pair(population: Population, fitness_func: FitnessFunc) -> Population:\n",
    "    return choices(\n",
    "        population=population,\n",
    "        weights=[fitness_func(gene) for gene in population],\n",
    "        k=2\n",
    "    )"
   ]
  },
  {
   "cell_type": "code",
   "execution_count": 72,
   "metadata": {},
   "outputs": [
    {
     "data": {
      "text/plain": [
       "[2, 2]"
      ]
     },
     "execution_count": 72,
     "metadata": {},
     "output_type": "execute_result"
    }
   ],
   "source": [
    "# 了解 random.choices 的用法\n",
    "import random\n",
    "random.choices([1,2,3,4,5], weights=[5,3,1,0,0], k=2)"
   ]
  },
  {
   "cell_type": "code",
   "execution_count": 76,
   "metadata": {},
   "outputs": [
    {
     "data": {
      "text/plain": [
       "'b'"
      ]
     },
     "execution_count": 76,
     "metadata": {},
     "output_type": "execute_result"
    }
   ],
   "source": [
    "s = \"abc\"\n",
    "s[1]"
   ]
  },
  {
   "cell_type": "code",
   "execution_count": 77,
   "metadata": {},
   "outputs": [
    {
     "name": "stdout",
     "output_type": "stream",
     "text": [
      "['capitalize', 'casefold', 'center', 'count', 'encode', 'endswith', 'expandtabs', 'find', 'format', 'format_map', 'index', 'isalnum', 'isalpha', 'isascii', 'isdecimal', 'isdigit', 'isidentifier', 'islower', 'isnumeric', 'isprintable', 'isspace', 'istitle', 'isupper', 'join', 'ljust', 'lower', 'lstrip', 'maketrans', 'partition', 'replace', 'rfind', 'rindex', 'rjust', 'rpartition', 'rsplit', 'rstrip', 'split', 'splitlines', 'startswith', 'strip', 'swapcase', 'title', 'translate', 'upper', 'zfill']\n"
     ]
    }
   ],
   "source": [
    "%f s dir . cr"
   ]
  },
  {
   "cell_type": "code",
   "execution_count": 80,
   "metadata": {},
   "outputs": [
    {
     "data": {
      "text/plain": [
       "'ab'"
      ]
     },
     "execution_count": 80,
     "metadata": {},
     "output_type": "execute_result"
    }
   ],
   "source": [
    "\"\".join(['a','b'])"
   ]
  },
  {
   "cell_type": "code",
   "execution_count": 79,
   "metadata": {},
   "outputs": [
    {
     "name": "stdout",
     "output_type": "stream",
     "text": [
      "Help on built-in function replace:\n",
      "\n",
      "replace(old, new, count=-1, /) method of builtins.str instance\n",
      "    Return a copy with all occurrences of substring old replaced by new.\n",
      "    \n",
      "      count\n",
      "        Maximum number of occurrences to replace.\n",
      "        -1 (the default value) means replace all occurrences.\n",
      "    \n",
      "    If the optional argument count is given, only the first count occurrences are\n",
      "    replaced.\n",
      "\n"
     ]
    }
   ],
   "source": [
    "help(s.replace)"
   ]
  },
  {
   "cell_type": "code",
   "execution_count": 108,
   "metadata": {},
   "outputs": [
    {
     "data": {
      "text/plain": [
       "2"
      ]
     },
     "execution_count": 108,
     "metadata": {},
     "output_type": "execute_result"
    }
   ],
   "source": [
    "random.choice([1,2,3,4,5])"
   ]
  },
  {
   "cell_type": "code",
   "execution_count": null,
   "metadata": {},
   "outputs": [],
   "source": []
  },
  {
   "cell_type": "code",
   "execution_count": null,
   "metadata": {},
   "outputs": [],
   "source": []
  },
  {
   "cell_type": "code",
   "execution_count": null,
   "metadata": {},
   "outputs": [],
   "source": []
  },
  {
   "cell_type": "code",
   "execution_count": null,
   "metadata": {},
   "outputs": [],
   "source": []
  }
 ],
 "metadata": {
  "kernelspec": {
   "display_name": "Python 3",
   "language": "python",
   "name": "python3"
  },
  "language_info": {
   "codemirror_mode": {
    "name": "ipython",
    "version": 3
   },
   "file_extension": ".py",
   "mimetype": "text/x-python",
   "name": "python",
   "nbconvert_exporter": "python",
   "pygments_lexer": "ipython3",
   "version": "3.7.5"
  }
 },
 "nbformat": 4,
 "nbformat_minor": 4
}
